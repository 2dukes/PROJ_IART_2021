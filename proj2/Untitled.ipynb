{
 "cells": [
  {
   "cell_type": "code",
   "execution_count": 5,
   "id": "a3c4eb84-62a3-48d3-92af-d119a653949b",
   "metadata": {
    "tags": []
   },
   "outputs": [],
   "source": [
    "import numpy as np\n",
    "import pandas as pd\n",
    "from sklearn.impute import KNNImputer\n",
    "from contextlib import redirect_stdout\n",
    "import matplotlib.pyplot as plt\n",
    "import seaborn as sb\n",
    "import sklearn.tree as tree\n",
    "from sklearn.tree import DecisionTreeClassifier # Import Decision Tree Classifie\n",
    "from sklearn.model_selection import train_test_split # Import train_test_split function\n",
    "from sklearn import metrics #Import scikit-learn metrics module for accuracy calculation\n",
    "\n",
    "# ----------------------------------------------- Import data --------------------------------------------\n",
    "\n",
    "df = pd.read_csv('./resources/data.csv', index_col=0)"
   ]
  },
  {
   "cell_type": "code",
   "execution_count": 6,
   "id": "97363478-ed13-447f-afaf-f4d90152efac",
   "metadata": {},
   "outputs": [],
   "source": [
    "# ------------------------------------------ Remove unnecessary columns -----------------------------------\n",
    "\n",
    "# Remove id column and use a default index\n",
    "df.reset_index(drop=True, inplace=True)\n",
    "\n",
    "df.drop(columns = [\n",
    "        'member_id',\n",
    "        'grade',\n",
    "        'emp_title',\n",
    "        'pymnt_plan',\n",
    "        'desc',\n",
    "        'title',\n",
    "        'zip_code',\n",
    "        'initial_list_status',\n",
    "        'out_prncp_inv',\n",
    "        'total_pymnt_inv',\n",
    "        'funded_amnt_inv',\n",
    "        'total_rec_prncp',\n",
    "        'total_rec_int',\n",
    "        'total_rec_late_fee',\n",
    "        'collection_recovery_fee',\n",
    "        'last_pymnt_d',\n",
    "        'last_pymnt_amnt',\n",
    "        'next_pymnt_d',\n",
    "        'last_credit_pull_d',\n",
    "        'collections_12_mths_ex_med',\n",
    "        'mths_since_last_major_derog',\n",
    "        'policy_code',\n",
    "        'application_type',\n",
    "        'annual_inc_joint',\n",
    "        'dti_joint',\n",
    "        'verification_status_joint',\n",
    "        'open_acc_6m',\n",
    "        'open_il_6m',\n",
    "        'open_il_12m',\n",
    "        'open_il_24m',\n",
    "        'mths_since_rcnt_il',\n",
    "        'total_bal_il',\n",
    "        'il_util',\n",
    "        'open_rv_12m',\n",
    "        'open_rv_24m',\n",
    "        'max_bal_bc',\n",
    "        'all_util',\n",
    "        'inq_fi',\n",
    "        'total_cu_tl',\n",
    "        'inq_last_12m',\n",
    "        'total_rev_hi_lim',\n",
    "        'open_acc',\n",
    "        'mths_since_last_record',\n",
    "        'mths_since_last_delinq'\n",
    "        ], inplace = True)"
   ]
  },
  {
   "cell_type": "code",
   "execution_count": 7,
   "id": "5dd8fa40-0a99-4a0c-8397-a5d0f3b92f3c",
   "metadata": {
    "tags": []
   },
   "outputs": [],
   "source": [
    "# ------------------------------------------------- Normalization ----------------------------------------\n",
    "\n",
    "# Remove \"months\" in column \"term\"\n",
    "df.term = df.term.str.split().str[0]\n",
    "\n",
    "# Rename column \"sub_grade\" to \"grade\"\n",
    "df.rename(columns={'sub_grade':'grade'}, inplace = True)\n",
    "\n",
    "# Normalize emp_length\n",
    "def normalize_emp_length(emp_length):\n",
    "    if (emp_length == None or (not type(emp_length) is str)):\n",
    "        return\n",
    "    if (emp_length == '< 1 year'):\n",
    "        return '0'\n",
    "    elif (emp_length == '10+ years'):\n",
    "        return '10'\n",
    "    else:\n",
    "        return emp_length.split()[0]\n",
    "\n",
    "df.emp_length = df.emp_length.apply(normalize_emp_length)\n",
    "\n",
    "df.emp_length = pd.to_numeric(df.emp_length, downcast='integer') # TODO: fix the conversion (current -> float64, desired -> int8)\n",
    "\n",
    "# df['emp_length'] = df['emp_length'].apply(lambda x: int(x) if not np.isnan(x) else x)\n",
    "# df['emp_length'] = df['emp_length'].astype(str).astype(int)\n",
    "\n",
    "# Convert types\n",
    "df.loan_amnt = df.loan_amnt.astype('uint32')\n",
    "df.funded_amnt = df.funded_amnt.astype('uint32')\n",
    "df.term = df.term.astype('uint8')\n",
    "df.int_rate = df.int_rate.astype('float16')\n",
    "df.installment = df.installment.astype('float16')\n",
    "df.grade = df.grade.astype('category')\n",
    "\n",
    "# df.emp_length = df.emp_length.astype('UInt8')\n",
    "\n",
    "df.home_ownership = df.home_ownership.astype('category')\n",
    "df.annual_inc = df.annual_inc.astype('uint32')\n",
    "df.verification_status = df.verification_status.astype('category')\n",
    "df.purpose = df.purpose.astype('category')\n",
    "df.addr_state = df.addr_state.astype('category')\n",
    "df.dti = df.dti.astype('float16')\n",
    "df.delinq_2yrs = df.delinq_2yrs.astype('uint8')\n",
    "df.inq_last_6mths = df.inq_last_6mths.astype('uint8')\n",
    "df.pub_rec = df.pub_rec.astype('uint8')\n",
    "df.revol_bal = df.revol_bal.astype('uint32')\n",
    "#df.revol_util = df.revol_util.astype('float16')\n",
    "df.total_acc = df.total_acc.astype('uint8')\n",
    "df.out_prncp = df.out_prncp.astype('float16')\n",
    "df.total_pymnt = df.total_pymnt.astype('float16')\n",
    "df.recoveries = df.recoveries.astype('float16')\n",
    "df.acc_now_delinq = df.acc_now_delinq.astype('category')\n",
    "#df.tot_coll_amt = df.tot_coll_amt.astype('float16')\n",
    "#df.tot_cur_bal = df.tot_cur_bal.astype('float16')\n",
    "df.default_ind = df.default_ind.astype('bool')\n",
    "\n",
    "df.issue_d = df.issue_d.astype('datetime64')\n",
    "df.earliest_cr_line = df.earliest_cr_line.astype('datetime64')\n",
    "df['since_first_cr'] = ((df['issue_d'] - df['earliest_cr_line']) / np.timedelta64(1, 'M')).astype('uint16')\n",
    "df['diff_loan_funded_amnt'] = (df['loan_amnt'] - df['funded_amnt']).astype('uint16')\n",
    "\n",
    "df.drop(columns = [\n",
    "        'issue_d',\n",
    "        'earliest_cr_line',\n",
    "        'funded_amnt'\n",
    "        ], inplace = True)\n",
    "\n",
    "df.to_csv(\"newData.csv\")"
   ]
  },
  {
   "cell_type": "markdown",
   "id": "ce71576e-aae4-4800-a01a-2706cfc9b64d",
   "metadata": {},
   "source": [
    "# Decision Tree Classifier"
   ]
  },
  {
   "cell_type": "code",
   "execution_count": 33,
   "id": "410001fd-527a-4644-8485-01104c9df775",
   "metadata": {},
   "outputs": [
    {
     "data": {
      "text/plain": [
       "'dtc = DecisionTreeClassifier()\\n\\nfeature_cols = [\\'annual_inc\\']\\nX = df[feature_cols] # Features\\ny = df[\\'default_ind\\'].values\\n\\n(training_inputs,\\n     testing_inputs,\\n     training_classes,\\n     testing_classes) = train_test_split(X, y, test_size=0.25)\\n\\ndtc.fit(training_inputs, training_classes)\\n\\nprediction_classes = dtc.predict(testing_inputs)\\n\\n# with open(\\'credit.dot\\', \\'w\\') as out_file:\\n#    out_file = tree.export_graphviz(dtc, out_file=out_file)\\n    \\n# tree.plot_tree(dtc)\\n\\nprint(\"Confusion matrix:\\n\", metrics.confusion_matrix(testing_classes, prediction_classes))\\nprint(\"Accuracy:\",metrics.accuracy_score(testing_classes, prediction_classes))\\nprint(\"Precision:\", metrics.precision_score(testing_classes, prediction_classes, average=\\'weighted\\'))'"
      ]
     },
     "execution_count": 33,
     "metadata": {},
     "output_type": "execute_result"
    }
   ],
   "source": [
    "import sys\n",
    "import numpy as np\n",
    "import pandas as pd\n",
    "from sklearn.impute import KNNImputer\n",
    "from contextlib import redirect_stdout\n",
    "import matplotlib.pyplot as plt\n",
    "import seaborn as sb\n",
    "import sklearn.tree as tree\n",
    "from sklearn.tree import DecisionTreeClassifier # Import Decision Tree Classifie\n",
    "from sklearn.model_selection import train_test_split # Import train_test_split function\n",
    "from sklearn import metrics #Import scikit-learn metrics module for accuracy calculation\n",
    "\n",
    "df = pd.read_csv('./newData.csv', index_col=0)\n",
    "\n",
    "def convertTypes(df):\n",
    "    df.loan_amnt = df.loan_amnt.astype('uint32')\n",
    "    df.term = df.term.astype('uint8')\n",
    "    df.int_rate = df.int_rate.astype('float16')\n",
    "    df.installment = df.installment.astype('float16')\n",
    "    df.grade = df.grade.astype('category')\n",
    "    df.home_ownership = df.home_ownership.astype('category')\n",
    "    df.annual_inc = df.annual_inc.astype('uint32')\n",
    "    df.verification_status = df.verification_status.astype('category')\n",
    "    df.purpose = df.purpose.astype('category')\n",
    "    df.addr_state = df.addr_state.astype('category')\n",
    "    df.dti = df.dti.astype('float16')\n",
    "    df.delinq_2yrs = df.delinq_2yrs.astype('uint8')\n",
    "    df.inq_last_6mths = df.inq_last_6mths.astype('uint8')\n",
    "    df.pub_rec = df.pub_rec.astype('uint8')\n",
    "    df.revol_bal = df.revol_bal.astype('uint32')\n",
    "    df.total_acc = df.total_acc.astype('uint8')\n",
    "    df.out_prncp = df.out_prncp.astype('float16')\n",
    "    df.total_pymnt = df.total_pymnt.astype('float16')\n",
    "    df.recoveries = df.recoveries.astype('float16')\n",
    "    df.acc_now_delinq = df.acc_now_delinq.astype('category')\n",
    "    df.default_ind = df.default_ind.astype('bool')\n",
    "\n",
    "#convertTypes(df)\n",
    "#df.info()\n",
    "\n",
    "# stratified_sample, _ = train_test_split(df, test_size=0.9, stratify=df[['default_ind']])\n",
    "\n",
    "\"\"\"dtc = DecisionTreeClassifier()\n",
    "\n",
    "feature_cols = ['annual_inc']\n",
    "X = df[feature_cols] # Features\n",
    "y = df['default_ind'].values\n",
    "\n",
    "(training_inputs,\n",
    "     testing_inputs,\n",
    "     training_classes,\n",
    "     testing_classes) = train_test_split(X, y, test_size=0.25)\n",
    "\n",
    "dtc.fit(training_inputs, training_classes)\n",
    "\n",
    "prediction_classes = dtc.predict(testing_inputs)\n",
    "\n",
    "# with open('credit.dot', 'w') as out_file:\n",
    "#    out_file = tree.export_graphviz(dtc, out_file=out_file)\n",
    "    \n",
    "# tree.plot_tree(dtc)\n",
    "\n",
    "print(\"Confusion matrix:\\n\", metrics.confusion_matrix(testing_classes, prediction_classes))\n",
    "print(\"Accuracy:\",metrics.accuracy_score(testing_classes, prediction_classes))\n",
    "print(\"Precision:\", metrics.precision_score(testing_classes, prediction_classes, average='weighted'))\"\"\""
   ]
  },
  {
   "cell_type": "markdown",
   "id": "de15ce44-4bb7-4ce7-aae1-b004250152ea",
   "metadata": {},
   "source": [
    "# Undersampling\n",
    "### (Same amount of rows with default_ind = 0 and default_ind = 1)"
   ]
  },
  {
   "cell_type": "code",
   "execution_count": 3,
   "id": "9a02053e-59fe-4393-9faa-2238adf7a634",
   "metadata": {},
   "outputs": [
    {
     "name": "stderr",
     "output_type": "stream",
     "text": [
      "/root/anaconda3/lib/python3.8/site-packages/seaborn/_decorators.py:36: FutureWarning: Pass the following variable as a keyword arg: x. From version 0.12, the only valid positional argument will be `data`, and passing other arguments without an explicit keyword will result in an error or misinterpretation.\n",
      "  warnings.warn(\n"
     ]
    },
    {
     "data": {
      "image/png": "[encoded data removed]",
      "text/plain": [
       "<Figure size 576x576 with 1 Axes>"
      ]
     },
     "metadata": {
      "needs_background": "light"
     },
     "output_type": "display_data"
    }
   ],
   "source": [
    "# Shuffle the Dataset.\n",
    "shuffled_df = df.sample(frac=1,random_state=4)\n",
    "\n",
    "# Put all the fraud class in a separate dataset.\n",
    "fraud_df = shuffled_df.loc[shuffled_df['default_ind'] == 1]\n",
    "\n",
    "# Randomly select 46467 observations from the non-fraud (majority class)\n",
    "non_fraud_df = shuffled_df.loc[shuffled_df['default_ind'] == 0].sample(n=fraud_df['default_ind'].count(),random_state=42)\n",
    "\n",
    "# Concatenate both dataframes again\n",
    "df = pd.concat([fraud_df, non_fraud_df])\n",
    "\n",
    "# plot the dataset after the undersampling\n",
    "plt.figure(figsize=(8, 8))\n",
    "sb.countplot('default_ind', data=df)\n",
    "plt.title('Balanced Classes')\n",
    "plt.show()"
   ]
  },
  {
   "cell_type": "code",
   "execution_count": 7,
   "id": "3807fd34-24e3-4044-ab88-1493a925e0a8",
   "metadata": {},
   "outputs": [],
   "source": [
    "df.to_csv(\"beforeSampling.csv\")\n",
    "imputer = KNNImputer(n_neighbors=2)\n",
    "newDf = imputer.fit_transform(df[['emp_length', 'revol_util', 'tot_coll_amt', 'tot_cur_bal', 'loan_amnt','annual_inc', 'dti', 'delinq_2yrs', 'pub_rec']])\n",
    "\n",
    "# Replace emp_length | revol_util | tot_coll_amt | loan_amnt columns with calculated values\n",
    "df['emp_length'] = newDf[:,0] \n",
    "df['revol_util'] = newDf[:,1] \n",
    "df['tot_coll_amt'] = newDf[:,2] \n",
    "df['tot_cur_bal'] = newDf[:,3] \n",
    "\n",
    "#np.set_printoptions(threshold=sys.maxsize)\n",
    "#print(newDf[:,0] )\n",
    "\n",
    "df.emp_length = df.emp_length.astype('uint8')\n",
    "df.revol_util = df.emp_length.astype('float16')\n",
    "df.tot_coll_amt = df.emp_length.astype('float16')\n",
    "df.tot_cur_bal = df.emp_length.astype('float16')\n",
    "\n",
    "df.to_csv(\"AfterKNNImputer.csv\")"
   ]
  },
  {
   "cell_type": "code",
   "execution_count": null,
   "id": "03338143-3249-4cbc-8c4c-493080caa6d6",
   "metadata": {},
   "outputs": [],
   "source": [
    "# Columns with missing values\n",
    "df.columns[df.isnull().any()].tolist()"
   ]
  },
  {
   "cell_type": "markdown",
   "id": "02d15f27-c6e9-4344-ad97-013fc656aa3b",
   "metadata": {},
   "source": [
    "# Removal of Outliers (Z-Score)"
   ]
  },
  {
   "cell_type": "code",
   "execution_count": 66,
   "id": "5957b543-1dff-43d8-8d99-8619e8a30cb5",
   "metadata": {},
   "outputs": [
    {
     "name": "stdout",
     "output_type": "stream",
     "text": [
      "<class 'pandas.core.frame.DataFrame'>\n",
      "Int64Index: 77939 entries, 723757 to 233253\n",
      "Data columns (total 21 columns):\n",
      " #   Column                 Non-Null Count  Dtype  \n",
      "---  ------                 --------------  -----  \n",
      " 0   loan_amnt              77939 non-null  int64  \n",
      " 1   term                   77939 non-null  int64  \n",
      " 2   int_rate               77939 non-null  float64\n",
      " 3   installment            77939 non-null  float64\n",
      " 4   emp_length             77939 non-null  int64  \n",
      " 5   annual_inc             77939 non-null  int64  \n",
      " 6   dti                    77939 non-null  float64\n",
      " 7   delinq_2yrs            77939 non-null  int64  \n",
      " 8   inq_last_6mths         77939 non-null  int64  \n",
      " 9   pub_rec                77939 non-null  int64  \n",
      " 10  revol_bal              77939 non-null  int64  \n",
      " 11  revol_util             77939 non-null  float64\n",
      " 12  total_acc              77939 non-null  int64  \n",
      " 13  out_prncp              77939 non-null  float64\n",
      " 14  total_pymnt            77939 non-null  float64\n",
      " 15  recoveries             77939 non-null  float64\n",
      " 16  acc_now_delinq         77939 non-null  int64  \n",
      " 17  tot_coll_amt           77939 non-null  float64\n",
      " 18  tot_cur_bal            77939 non-null  float64\n",
      " 19  since_first_cr         77939 non-null  int64  \n",
      " 20  diff_loan_funded_amnt  77939 non-null  int64  \n",
      "dtypes: float64(9), int64(12)\n",
      "memory usage: 13.1 MB\n"
     ]
    }
   ],
   "source": [
    "from scipy import stats\n",
    "\n",
    "df = pd.read_csv('./AfterKNNImputer.csv', index_col=0)\n",
    "\n",
    "z = np.abs(stats.zscore(df.select_dtypes(exclude=['object', 'bool'])))\n",
    "\n",
    "testDf = df.select_dtypes(exclude=['object', 'bool'])\n",
    "testDf = testDf[(z < 4).all(axis=1)]\n",
    "testDf.info()"
   ]
  },
  {
   "cell_type": "code",
   "execution_count": null,
   "id": "12c61d52-ddb7-4900-a2f2-519bdb19119d",
   "metadata": {},
   "outputs": [],
   "source": [
    "corr = df.corr()\n",
    "corr.style.background_gradient(cmap='coolwarm')"
   ]
  },
  {
   "cell_type": "code",
   "execution_count": null,
   "id": "52f3cf20-dad8-465e-993a-56029a1db96f",
   "metadata": {},
   "outputs": [],
   "source": [
    "# sb.stripplot(x='grade', y='annual_inc', hue='default_ind', data=df)"
   ]
  },
  {
   "cell_type": "code",
   "execution_count": null,
   "id": "965493d2-1ece-4072-9bd2-2ec0903e39ac",
   "metadata": {},
   "outputs": [],
   "source": [
    "# df.plot(subplots=True, layout=(6,6))"
   ]
  }
 ],
 "metadata": {
  "kernelspec": {
   "display_name": "Python 3",
   "language": "python",
   "name": "python3"
  },
  "language_info": {
   "codemirror_mode": {
    "name": "ipython",
    "version": 3
   },
   "file_extension": ".py",
   "mimetype": "text/x-python",
   "name": "python",
   "nbconvert_exporter": "python",
   "pygments_lexer": "ipython3",
   "version": "3.8.8"
  }
 },
 "nbformat": 4,
 "nbformat_minor": 5
}
